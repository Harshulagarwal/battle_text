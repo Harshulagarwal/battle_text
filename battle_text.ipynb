{
  "nbformat": 4,
  "nbformat_minor": 0,
  "metadata": {
    "colab": {
      "name": "battle text",
      "version": "0.3.2",
      "provenance": [],
      "collapsed_sections": [],
      "include_colab_link": true
    },
    "kernelspec": {
      "name": "python2",
      "display_name": "Python 2"
    },
    "accelerator": "GPU"
  },
  "cells": [
    {
      "cell_type": "markdown",
      "metadata": {
        "id": "view-in-github",
        "colab_type": "text"
      },
      "source": [
        "<a href=\"https://colab.research.google.com/github/Harshulagarwal/battle_text/blob/master/battle_text.ipynb\" target=\"_parent\"><img src=\"https://colab.research.google.com/assets/colab-badge.svg\" alt=\"Open In Colab\"/></a>"
      ]
    },
    {
      "metadata": {
        "id": "4m54M0eA1TNs",
        "colab_type": "code",
        "outputId": "edac8c98-add6-4cb3-b815-efeaebf529e2",
        "colab": {
          "base_uri": "https://localhost:8080/",
          "height": 67
        }
      },
      "cell_type": "code",
      "source": [
        "import nltk\n",
        "nltk.download('words')"
      ],
      "execution_count": 1,
      "outputs": [
        {
          "output_type": "stream",
          "text": [
            "[nltk_data] Downloading package words to /root/nltk_data...\n",
            "[nltk_data]   Unzipping corpora/words.zip.\n"
          ],
          "name": "stdout"
        },
        {
          "output_type": "execute_result",
          "data": {
            "text/plain": [
              "True"
            ]
          },
          "metadata": {
            "tags": []
          },
          "execution_count": 1
        }
      ]
    },
    {
      "metadata": {
        "id": "g7EPabw6NuvL",
        "colab_type": "code",
        "colab": {}
      },
      "cell_type": "code",
      "source": [
        "def player1(s1,l1,l2):\n",
        "  print(\"Start with\",l2)  \n",
        "  start_time1 = time.time()\n",
        "  word1=raw_input('enter player1 ')\n",
        "  elapsed_time1 = time.time() - start_time1\n",
        "\n",
        "  if word1 in l and l2==word1[0] and elapsed_time1<15:\n",
        "    \n",
        "    len1=len(word1)\n",
        "    l1=word1[-1]\n",
        "    s1=s1+len1\n",
        "    print(\"Success score=\", s1)\n",
        "    l.remove(word1)\n",
        "    return l1,s1\n",
        "  elif elapsed_time1>=10:\n",
        "    print(\"Time over  \")\n",
        "    return l1,s1\n",
        "  else:   \n",
        "    print(\"Wrong word try again  \")\n",
        "    return player1(s1,l1,l2)\n"
      ],
      "execution_count": 0,
      "outputs": []
    },
    {
      "metadata": {
        "id": "h9D99QIlOUfr",
        "colab_type": "code",
        "colab": {}
      },
      "cell_type": "code",
      "source": [
        "def player2(s2,l1,l2):\n",
        "  print(\"Start with\",l1)  \n",
        "  start_time2 = time.time()\n",
        "\n",
        "  word2=raw_input('enter player2 ')\n",
        "  elapsed_time2 = time.time() - start_time2\n",
        "  \n",
        "  if word2 in l and l1==word2[0] and elapsed_time2<15:\n",
        "    len2=len(word2)\n",
        "    l2=word2[-1]\n",
        "    s2=s2+len2\n",
        "    \n",
        "    print(\"Success score=\", s2)\n",
        "    l.remove(word2)\n",
        "    return l2,s2\n",
        "  elif elapsed_time2>=10:\n",
        "    print(\"Time over  \")\n",
        "\n",
        "    return l2,s2\n",
        "  else:  \n",
        "    print(\"Wrong word try again  \")\n",
        "    return player2(s2,l1,l2)"
      ],
      "execution_count": 0,
      "outputs": []
    },
    {
      "metadata": {
        "id": "uY49lRtZw9-R",
        "colab_type": "code",
        "colab": {}
      },
      "cell_type": "code",
      "source": [
        "import random as rn\n",
        "from random import shuffle\n",
        "import re\n",
        "def computer(s2,l1,l2):\n",
        "  print('Computers turn ')  \n",
        "  shuffle(l)\n",
        "  \n",
        "  for i in l:\n",
        "    if i[0]==l1 and len(i)>4:\n",
        "      word2=i\n",
        "      break\n",
        "  word3 = re.sub(r'[^\\w\\s]','',word2)\n",
        "    \n",
        "  #word2=rn.choice(l)\n",
        "  #print(\"Start with\",l1)  \n",
        "  len2=len(word3)\n",
        "  l2=word3[-1]\n",
        "  print(word3)\n",
        "  s2=s2+len2\n",
        "  print(\"Success score=\", s2)\n",
        "  l.remove(word2)\n",
        "  return l2,s2\n",
        "  "
      ],
      "execution_count": 0,
      "outputs": []
    },
    {
      "metadata": {
        "id": "OHkc9SOyB-9Y",
        "colab_type": "code",
        "colab": {}
      },
      "cell_type": "code",
      "source": [
        ""
      ],
      "execution_count": 0,
      "outputs": []
    },
    {
      "metadata": {
        "id": "sYHt5k5GPEdD",
        "colab_type": "code",
        "outputId": "6cd98e36-2a98-4b0a-9d72-2f4b4130a1aa",
        "colab": {
          "base_uri": "https://localhost:8080/",
          "height": 2184
        }
      },
      "cell_type": "code",
      "source": [
        "import spacy\n",
        "import time\n",
        "import string\n",
        "p=1\n",
        "import os\n",
        "\n",
        "game=input(\"play with computer press 0 or multiplayer press 1  \")\n",
        "if game==1:\n",
        "  while p==1:\n",
        "\n",
        "    #nlp = spacy.load('en')\n",
        "    #l=list(nlp.vocab.strings)\n",
        "    from nltk.corpus import words\n",
        "    l=list(words.words())\n",
        "\n",
        "    score=input('ENTER TOTAL SCORE FOR WINING  ')\n",
        "    s1=0\n",
        "    l1=rn.choice(string.ascii_letters[0:25])\n",
        "    l2=rn.choice(string.ascii_letters[0:25])\n",
        "    s2=0\n",
        "    while True:\n",
        "        l1,s1=player1( s1,l1,l2);\n",
        "        time.sleep(1);\n",
        "        l2,s2=player2( s2,l1,l2);\n",
        "        if(s1>score or s2>score):\n",
        "          print(\"Game over Score player1 \",s1,\" player2 \",s2)\n",
        "          if(s1>s2):\n",
        "            print(\"PLAYER1 WON \")\n",
        "          elif (s2>s1 ):\n",
        "            print(\"PLAYER2 WON\")\n",
        "          else:\n",
        "            print(\"MATCH TIED\")\n",
        "\n",
        "          break\n",
        "    p=input(\"press 1 for again and 0 for good bye \")\n",
        "else :\n",
        "  while p==1:\n",
        "    #nlp = spacy.load('en')\n",
        "    #l=list(nlp.vocab.strings)\n",
        "    from nltk.corpus import words\n",
        "    l=list(words.words())\n",
        "    score=input('ENTER TOTAL SCORE FOR WINING  ')\n",
        "    s1=0\n",
        "    l1=rn.choice(string.ascii_letters[0:25])\n",
        "    l2=rn.choice(string.ascii_letters[0:25])\n",
        "    s2=0\n",
        "    while True:\n",
        "        l1,s1=player1( s1,l1,l2);\n",
        "        time.sleep(1);\n",
        "        l2,s2=computer( s2,l1,l2);\n",
        "        if(s1>score or s2>score):\n",
        "          print(\"Game over Score player1 \",s1,\" computer \",s2)\n",
        "          if(s1>s2):\n",
        "            print(\"PLAYER WON \")\n",
        "          elif (s2>s1):\n",
        "            print(\"COMPUTER WON\")\n",
        "          else:\n",
        "            print(\"MATCH TIED\")\n",
        "          break\n",
        "    p=input(\"press 1 for again and 0 for good bye \")\n",
        "    os.system( 'cls' )\n",
        "\n",
        "\n",
        "    \n",
        "    \n",
        "    \n"
      ],
      "execution_count": 6,
      "outputs": [
        {
          "output_type": "stream",
          "text": [
            "play with computer press 0 or multiplayer press 1  0\n",
            "ENTER TOTAL SCORE FOR WINING  60\n",
            "('Start with', 'd')\n",
            "enter player1 dustbin\n",
            "('Success score=', 7)\n",
            "Computers turn \n",
            "nontransferable\n",
            "('Success score=', 15)\n",
            "('Start with', u'e')\n",
            "enter player1 ennumuration\n",
            "Wrong word try again  \n",
            "('Start with', u'e')\n",
            "enter player1 enumuration\n",
            "Time over  \n",
            "Computers turn \n",
            "neurophil\n",
            "('Success score=', 24)\n",
            "('Start with', u'l')\n",
            "enter player1 lazor\n",
            "Wrong word try again  \n",
            "('Start with', u'l')\n",
            "enter player1 laser\n",
            "('Success score=', 12)\n",
            "Computers turn \n",
            "restimulate\n",
            "('Success score=', 35)\n",
            "('Start with', u'e')\n",
            "enter player1 estimation\n",
            "('Success score=', 22)\n",
            "Computers turn \n",
            "neobotanist\n",
            "('Success score=', 46)\n",
            "('Start with', u't')\n",
            "enter player1 tasty\n",
            "('Success score=', 27)\n",
            "Computers turn \n",
            "yeather\n",
            "('Success score=', 53)\n",
            "('Start with', u'r')\n",
            "enter player1 refundable\n",
            "Wrong word try again  \n",
            "('Start with', u'r')\n",
            "enter player1 refund\n",
            "('Success score=', 33)\n",
            "Computers turn \n",
            "dichromasy\n",
            "('Success score=', 63)\n",
            "('Game over Score player1 ', 33, ' computer ', 63)\n",
            "COMPUTER WON\n",
            "press 1 for again and 0 for good bye 1\n",
            "ENTER TOTAL SCORE FOR WINING  100\n",
            "('Start with', 'l')\n",
            "enter player1 lightening\n",
            "('Success score=', 10)\n",
            "Computers turn \n",
            "gelatose\n",
            "('Success score=', 8)\n",
            "('Start with', u'e')\n",
            "enter player1 estrogen\n",
            "('Success score=', 18)\n",
            "Computers turn \n",
            "nosogeny\n",
            "('Success score=', 16)\n",
            "('Start with', u'y')\n",
            "enter player1 yeilds\n",
            "Wrong word try again  \n",
            "('Start with', u'y')\n",
            "enter player1 yielding\n",
            "('Success score=', 26)\n",
            "Computers turn \n",
            "guijo\n",
            "('Success score=', 21)\n",
            "('Start with', u'o')\n",
            "enter player1 oranges\n",
            "Wrong word try again  \n",
            "('Start with', u'o')\n",
            "enter player1 orange\n",
            "('Success score=', 32)\n",
            "Computers turn \n",
            "embowelment\n",
            "('Success score=', 32)\n",
            "('Start with', u't')\n",
            "enter player1 trustworthy\n",
            "('Success score=', 43)\n",
            "Computers turn \n",
            "yanking\n",
            "('Success score=', 39)\n",
            "('Start with', u'g')\n",
            "enter player1 grouping\n",
            "('Success score=', 51)\n",
            "Computers turn \n",
            "goatish\n",
            "('Success score=', 46)\n",
            "('Start with', u'h')\n",
            "enter player1 hammered\n",
            "Time over  \n",
            "Computers turn \n",
            "grandiloquently\n",
            "('Success score=', 61)\n",
            "('Start with', u'y')\n",
            "enter player1 yelling\n",
            "('Success score=', 58)\n",
            "Computers turn \n",
            "garnetz\n",
            "('Success score=', 68)\n",
            "('Start with', u'z')\n",
            "enter player1 zebra\n",
            "('Success score=', 63)\n",
            "Computers turn \n",
            "autobasidia\n",
            "('Success score=', 79)\n",
            "('Start with', u'a')\n",
            "enter player1 astrophysics\n",
            "('Success score=', 75)\n",
            "Computers turn \n",
            "semistill\n",
            "('Success score=', 88)\n",
            "('Start with', u'l')\n",
            "enter player1 loosening\n",
            "Wrong word try again  \n",
            "('Start with', u'l')\n",
            "enter player1 loose\n",
            "('Success score=', 80)\n",
            "Computers turn \n",
            "equiproducing\n",
            "('Success score=', 101)\n",
            "('Game over Score player1 ', 80, ' computer ', 101)\n",
            "COMPUTER WON\n",
            "press 1 for again and 0 for good bye 0\n"
          ],
          "name": "stdout"
        }
      ]
    },
    {
      "metadata": {
        "id": "3WT1vRmh9pPw",
        "colab_type": "code",
        "colab": {}
      },
      "cell_type": "code",
      "source": [
        " \n",
        "\n"
      ],
      "execution_count": 0,
      "outputs": []
    },
    {
      "metadata": {
        "id": "b9wI3bDEIhOy",
        "colab_type": "code",
        "colab": {}
      },
      "cell_type": "code",
      "source": [
        ""
      ],
      "execution_count": 0,
      "outputs": []
    }
  ]
}